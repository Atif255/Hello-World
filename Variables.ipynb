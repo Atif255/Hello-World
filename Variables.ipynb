{
 "cells": [
  {
   "cell_type": "markdown",
   "id": "a4897795",
   "metadata": {},
   "source": [
    "# What are Variables?\n",
    "## Variables are container for storing values.\n",
    "## Python has no command for storing the variables.\n",
    "## When you assign a value, a variable is created."
   ]
  },
  {
   "cell_type": "markdown",
   "id": "4fd9cf1a",
   "metadata": {},
   "source": [
    "# Rules for declaring variable:\n",
    "### A variable name must start with a letter or underscore character.\n",
    "### A variable name cannot start with a number.\n",
    "### A variable name can contain only alpha-numeric characters and underscores(A-z, 0-9 and _)\n",
    "### Variables name are case-sensitive (age, Age and AGE are three different variables)"
   ]
  },
  {
   "cell_type": "code",
   "execution_count": 1,
   "id": "4e029e11",
   "metadata": {},
   "outputs": [
    {
     "data": {
      "text/plain": [
       "5"
      ]
     },
     "execution_count": 1,
     "metadata": {},
     "output_type": "execute_result"
    }
   ],
   "source": [
    "# Declaring a Variable\n",
    "x=5\n",
    "x"
   ]
  },
  {
   "cell_type": "code",
   "execution_count": 2,
   "id": "b4d9a7e0",
   "metadata": {},
   "outputs": [
    {
     "data": {
      "text/plain": [
       "'Atif'"
      ]
     },
     "execution_count": 2,
     "metadata": {},
     "output_type": "execute_result"
    }
   ],
   "source": [
    "Name= \"Atif\" #Satisfy the rules\n",
    "Name"
   ]
  },
  {
   "cell_type": "code",
   "execution_count": 3,
   "id": "1cb46d7b",
   "metadata": {},
   "outputs": [
    {
     "data": {
      "text/plain": [
       "'Atif'"
      ]
     },
     "execution_count": 3,
     "metadata": {},
     "output_type": "execute_result"
    }
   ],
   "source": [
    "name_123= \"Atif\"\n",
    "name_123"
   ]
  },
  {
   "cell_type": "code",
   "execution_count": 4,
   "id": "a8965c43",
   "metadata": {},
   "outputs": [
    {
     "ename": "SyntaxError",
     "evalue": "invalid syntax (Temp/ipykernel_21716/537597755.py, line 1)",
     "output_type": "error",
     "traceback": [
      "\u001b[1;36m  File \u001b[1;32m\"C:\\Users\\Atif\\AppData\\Local\\Temp/ipykernel_21716/537597755.py\"\u001b[1;36m, line \u001b[1;32m1\u001b[0m\n\u001b[1;33m    1Nickname= \"Atif\" #Variable should not start with a number\u001b[0m\n\u001b[1;37m     ^\u001b[0m\n\u001b[1;31mSyntaxError\u001b[0m\u001b[1;31m:\u001b[0m invalid syntax\n"
     ]
    }
   ],
   "source": [
    "1Nickname= \"Atif\" #Variable should not start with a number"
   ]
  },
  {
   "cell_type": "code",
   "execution_count": 5,
   "id": "85043cef",
   "metadata": {},
   "outputs": [
    {
     "data": {
      "text/plain": [
       "'Atif'"
      ]
     },
     "execution_count": 5,
     "metadata": {},
     "output_type": "execute_result"
    }
   ],
   "source": [
    "N1ickname = \"Atif\" #Numbers can be used in the variable other than the first character\n",
    "N1ickname"
   ]
  },
  {
   "cell_type": "code",
   "execution_count": 6,
   "id": "a88a1972",
   "metadata": {},
   "outputs": [
    {
     "data": {
      "text/plain": [
       "'Atif'"
      ]
     },
     "execution_count": 6,
     "metadata": {},
     "output_type": "execute_result"
    }
   ],
   "source": [
    "Nick_name = \"Atif\"\n",
    "Nick_name"
   ]
  },
  {
   "cell_type": "code",
   "execution_count": 7,
   "id": "a6f690a6",
   "metadata": {},
   "outputs": [
    {
     "data": {
      "text/plain": [
       "23"
      ]
     },
     "execution_count": 7,
     "metadata": {},
     "output_type": "execute_result"
    }
   ],
   "source": [
    "age=23\n",
    "age"
   ]
  },
  {
   "cell_type": "code",
   "execution_count": 8,
   "id": "54812280",
   "metadata": {},
   "outputs": [
    {
     "ename": "NameError",
     "evalue": "name 'Age' is not defined",
     "output_type": "error",
     "traceback": [
      "\u001b[1;31m---------------------------------------------------------------------------\u001b[0m",
      "\u001b[1;31mNameError\u001b[0m                                 Traceback (most recent call last)",
      "\u001b[1;32m~\\AppData\\Local\\Temp/ipykernel_21716/1810714888.py\u001b[0m in \u001b[0;36m<module>\u001b[1;34m\u001b[0m\n\u001b[1;32m----> 1\u001b[1;33m \u001b[0mAge\u001b[0m \u001b[1;31m#Case Sensitive\u001b[0m\u001b[1;33m\u001b[0m\u001b[1;33m\u001b[0m\u001b[0m\n\u001b[0m",
      "\u001b[1;31mNameError\u001b[0m: name 'Age' is not defined"
     ]
    }
   ],
   "source": [
    "Age #Case Sensitive"
   ]
  },
  {
   "cell_type": "code",
   "execution_count": 10,
   "id": "5cd10a01",
   "metadata": {},
   "outputs": [
    {
     "ename": "NameError",
     "evalue": "name 'AGE' is not defined",
     "output_type": "error",
     "traceback": [
      "\u001b[1;31m---------------------------------------------------------------------------\u001b[0m",
      "\u001b[1;31mNameError\u001b[0m                                 Traceback (most recent call last)",
      "\u001b[1;32m~\\AppData\\Local\\Temp/ipykernel_21716/1065279192.py\u001b[0m in \u001b[0;36m<module>\u001b[1;34m\u001b[0m\n\u001b[1;32m----> 1\u001b[1;33m \u001b[0mAGE\u001b[0m \u001b[1;31m# case sensitive\u001b[0m\u001b[1;33m\u001b[0m\u001b[1;33m\u001b[0m\u001b[0m\n\u001b[0m",
      "\u001b[1;31mNameError\u001b[0m: name 'AGE' is not defined"
     ]
    }
   ],
   "source": [
    "AGE # case sensitive"
   ]
  },
  {
   "cell_type": "code",
   "execution_count": 12,
   "id": "f76ab3ab",
   "metadata": {},
   "outputs": [
    {
     "ename": "SyntaxError",
     "evalue": "invalid syntax (Temp/ipykernel_21716/3526261000.py, line 1)",
     "output_type": "error",
     "traceback": [
      "\u001b[1;36m  File \u001b[1;32m\"C:\\Users\\Atif\\AppData\\Local\\Temp/ipykernel_21716/3526261000.py\"\u001b[1;36m, line \u001b[1;32m1\u001b[0m\n\u001b[1;33m    10 ist=1,2,3   # spaces are not allowed in variable name\u001b[0m\n\u001b[1;37m       ^\u001b[0m\n\u001b[1;31mSyntaxError\u001b[0m\u001b[1;31m:\u001b[0m invalid syntax\n"
     ]
    }
   ],
   "source": [
    "10 ist=1,2,3   # spaces are not allowed in variable name\n",
    "10 ist"
   ]
  },
  {
   "cell_type": "code",
   "execution_count": null,
   "id": "f2520295",
   "metadata": {},
   "outputs": [],
   "source": []
  }
 ],
 "metadata": {
  "kernelspec": {
   "display_name": "Python 3 (ipykernel)",
   "language": "python",
   "name": "python3"
  },
  "language_info": {
   "codemirror_mode": {
    "name": "ipython",
    "version": 3
   },
   "file_extension": ".py",
   "mimetype": "text/x-python",
   "name": "python",
   "nbconvert_exporter": "python",
   "pygments_lexer": "ipython3",
   "version": "3.9.7"
  }
 },
 "nbformat": 4,
 "nbformat_minor": 5
}
