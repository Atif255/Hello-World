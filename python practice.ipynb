{
 "cells": [
  {
   "cell_type": "code",
   "execution_count": null,
   "id": "66c5b82a",
   "metadata": {},
   "outputs": [],
   "source": [
    "email = input(\"enter email\")\n",
    "password = input(\"Enter password\")\n",
    "\n",
    "if email == \"atif09558\" and password == \"1234\":\n",
    "    print(\"welcome\")\n",
    "elif email == \"atif09558\" and password != \"1234\":\n",
    "    print(\"Incorrect passwrod\")\n",
    "    password = input(\"password fir se bol\")\n",
    "    if password == \"1234\":\n",
    "        print(\"finallu correct\")\n",
    "    else: print(\"still galat\")    \n",
    "else:\n",
    "    print(\"invalid Credentials\")"
   ]
  },
  {
   "cell_type": "code",
   "execution_count": null,
   "id": "a23bab72",
   "metadata": {},
   "outputs": [],
   "source": [
    "import random"
   ]
  },
  {
   "cell_type": "code",
   "execution_count": null,
   "id": "741b1686",
   "metadata": {},
   "outputs": [],
   "source": [
    "jackpot = random.randint(1,100)\n",
    "\n",
    "guess = int(input(\"guess the number\"))\n",
    "counter = 1\n",
    "\n",
    "while guess != jackpot:\n",
    "    if guess < jackpot:\n",
    "        print(\"guess higher\") \n",
    "    else:\n",
    "        print(\"guess lower\")\n",
    "    guess = int(input(\"guess the number\")) \n",
    "    counter += 1\n",
    "    \n",
    "print(\"right answer\")\n",
    "print(\"you took\", counter, \" attempts\")\n",
    "    \n",
    "    \n",
    "    \n",
    "        \n",
    "        "
   ]
  },
  {
   "cell_type": "code",
   "execution_count": null,
   "id": "d8e8d7fd",
   "metadata": {},
   "outputs": [],
   "source": []
  },
  {
   "cell_type": "code",
   "execution_count": null,
   "id": "90958e27",
   "metadata": {},
   "outputs": [],
   "source": []
  },
  {
   "cell_type": "code",
   "execution_count": null,
   "id": "b7fd4730",
   "metadata": {},
   "outputs": [],
   "source": []
  },
  {
   "cell_type": "code",
   "execution_count": null,
   "id": "0d67068b",
   "metadata": {},
   "outputs": [],
   "source": [
    "c = \"Hello how are you?\"\n",
    "c.title()"
   ]
  },
  {
   "cell_type": "code",
   "execution_count": null,
   "id": "f4af043e",
   "metadata": {
    "scrolled": true
   },
   "outputs": [],
   "source": [
    "c.split()"
   ]
  },
  {
   "cell_type": "code",
   "execution_count": null,
   "id": "102a8546",
   "metadata": {},
   "outputs": [],
   "source": [
    "L = []\n",
    "for i in c.split():\n",
    "    print(i.capitalize())\n",
    "    L.append(i.capitalize())    "
   ]
  },
  {
   "cell_type": "code",
   "execution_count": null,
   "id": "c0326e96",
   "metadata": {},
   "outputs": [],
   "source": [
    "\" \".join(L)"
   ]
  },
  {
   "cell_type": "code",
   "execution_count": null,
   "id": "81ad92ca",
   "metadata": {},
   "outputs": [],
   "source": [
    "e = \"atif@gmail.com\""
   ]
  },
  {
   "cell_type": "code",
   "execution_count": null,
   "id": "2dff55c4",
   "metadata": {},
   "outputs": [],
   "source": [
    "print(e[:e.find(\"@\")])"
   ]
  },
  {
   "cell_type": "code",
   "execution_count": null,
   "id": "8fc28eb0",
   "metadata": {},
   "outputs": [],
   "source": [
    "L1 = [1,1,2,2,3,3,3,3,4,4,5]\n",
    "L2 = []\n",
    "\n",
    "for i in L1:\n",
    "    if i not in L2:\n",
    "        L2.append(i)"
   ]
  },
  {
   "cell_type": "code",
   "execution_count": null,
   "id": "1a435b06",
   "metadata": {},
   "outputs": [],
   "source": [
    "L2"
   ]
  },
  {
   "cell_type": "code",
   "execution_count": null,
   "id": "026a963d",
   "metadata": {},
   "outputs": [],
   "source": []
  },
  {
   "cell_type": "code",
   "execution_count": null,
   "id": "43440503",
   "metadata": {},
   "outputs": [],
   "source": []
  },
  {
   "cell_type": "code",
   "execution_count": null,
   "id": "53008a35",
   "metadata": {},
   "outputs": [],
   "source": []
  },
  {
   "cell_type": "code",
   "execution_count": null,
   "id": "7d8f21b3",
   "metadata": {},
   "outputs": [],
   "source": [
    "x = lambda x : x%2 == 0"
   ]
  },
  {
   "cell_type": "code",
   "execution_count": null,
   "id": "0c7e893b",
   "metadata": {},
   "outputs": [],
   "source": [
    "x(87)"
   ]
  },
  {
   "cell_type": "code",
   "execution_count": null,
   "id": "cc5f99f1",
   "metadata": {},
   "outputs": [],
   "source": [
    "L = [11,14,21,23,56,78,45,29,28]"
   ]
  },
  {
   "cell_type": "code",
   "execution_count": null,
   "id": "4cf95eaf",
   "metadata": {},
   "outputs": [],
   "source": [
    "def return_sum(func, L):\n",
    "    sum = 0\n",
    "    for i in L:\n",
    "        if func(i):\n",
    "            sum = sum + i\n",
    "    return sum    \n",
    "    "
   ]
  },
  {
   "cell_type": "code",
   "execution_count": null,
   "id": "c900968e",
   "metadata": {},
   "outputs": [],
   "source": [
    "X = lambda x : x%2 == 0\n",
    "Y = lambda y : y%2 != 0\n",
    "Z = lambda z : z%3 == 0"
   ]
  },
  {
   "cell_type": "code",
   "execution_count": null,
   "id": "921b145c",
   "metadata": {},
   "outputs": [],
   "source": [
    "print( return_sum(X, L))\n",
    "print (return_sum(Y, L))\n",
    "print (return_sum(Z, L))"
   ]
  },
  {
   "cell_type": "code",
   "execution_count": null,
   "id": "29d12ffa",
   "metadata": {},
   "outputs": [],
   "source": []
  },
  {
   "cell_type": "code",
   "execution_count": null,
   "id": "c1c5ccf7",
   "metadata": {},
   "outputs": [],
   "source": [
    "#map\n"
   ]
  },
  {
   "cell_type": "code",
   "execution_count": null,
   "id": "cf0afce9",
   "metadata": {},
   "outputs": [],
   "source": [
    "#filter\n",
    "fruits = [\"apple\", \"mango\", \"guava\", \"orange\"]"
   ]
  },
  {
   "cell_type": "code",
   "execution_count": null,
   "id": "cd91e165",
   "metadata": {},
   "outputs": [],
   "source": [
    "filter(lambda x:'e' in x, fruits)"
   ]
  },
  {
   "cell_type": "code",
   "execution_count": null,
   "id": "c8384d75",
   "metadata": {},
   "outputs": [],
   "source": [
    "list(filter(lambda fruit:'e' in fruit, fruits))"
   ]
  },
  {
   "cell_type": "code",
   "execution_count": null,
   "id": "b70bb41c",
   "metadata": {},
   "outputs": [],
   "source": []
  },
  {
   "cell_type": "code",
   "execution_count": null,
   "id": "851a19c5",
   "metadata": {},
   "outputs": [],
   "source": []
  },
  {
   "cell_type": "code",
   "execution_count": null,
   "id": "f9b1d819",
   "metadata": {},
   "outputs": [],
   "source": []
  },
  {
   "cell_type": "markdown",
   "id": "47c8f493",
   "metadata": {},
   "source": [
    "# OOPS"
   ]
  },
  {
   "cell_type": "code",
   "execution_count": null,
   "id": "3403fd4e",
   "metadata": {},
   "outputs": [],
   "source": [
    "class Car:\n",
    "    color = \"blue\"\n",
    "    model = \"sports\"\n",
    "    \n",
    "    def calculate_avg_speed(self):\n",
    "        #some code\n",
    "        print(\"wdfmwd\")\n",
    "        "
   ]
  },
  {
   "cell_type": "code",
   "execution_count": null,
   "id": "97ce9350",
   "metadata": {},
   "outputs": [],
   "source": [
    "wagonr = Car()"
   ]
  },
  {
   "cell_type": "markdown",
   "id": "a94363b2",
   "metadata": {},
   "source": [
    "# ATM"
   ]
  },
  {
   "cell_type": "code",
   "execution_count": 11,
   "id": "c9ee8c40",
   "metadata": {},
   "outputs": [],
   "source": [
    "class Atm:\n",
    "    \n",
    "    def __init__(self):\n",
    "        self.balance = 0\n",
    "        self.pin = \"\"\n",
    "        print(id(self))\n",
    "        \n",
    "        self.menu()\n",
    "        \n",
    "    def menu(self):\n",
    "        user_input = input(\"\"\" Welcome\n",
    "        1. Press 1 to set pin\n",
    "        2. Press 2 to check balance\n",
    "        3. Press 3 to deposit amount\n",
    "        4. Press 4 to withdraw money\n",
    "        5. Press 5 to exit\n",
    "        \"\"\")\n",
    "        if user_input == \"1\":\n",
    "            self.create_pin()            \n",
    "        elif user_input == \"2\":\n",
    "            self.check_balance()\n",
    "        elif user_input == \"3\":\n",
    "            self.deposit()\n",
    "        elif user_input == \"4\":\n",
    "            self.withdraw\n",
    "        else:\n",
    "            print(\"Exit\")\n",
    "            \n",
    "    def create_pin(self):\n",
    "        self.pin = input(\"enter your pin\")\n",
    "        print(\"pin set successfully\")\n",
    "        self.menu()\n",
    "        \n",
    "    \n",
    "    def check_balance(self):\n",
    "        temp = input(\"enter the pin\")\n",
    "        if temp == self.pin:\n",
    "            print(\"balance is :\", self.balance)\n",
    "        else:\n",
    "            print(\"Invalid Pin\")\n",
    "            \n",
    "    def deposit(self):\n",
    "        temp = input(\"enter the pin\")\n",
    "        if temp == self.pin:\n",
    "            amount = int(input(\"enter the amount to deposit\"))\n",
    "            self.balance += amount\n",
    "        else:\n",
    "            print(\"Invalid Pin\")\n",
    "            \n",
    "    def withdraw(self):\n",
    "        temp = input(\"enter the pin\")\n",
    "        if temp == self.pin:\n",
    "            amount = int(input(\"Enter to amount to withdraw\"))\n",
    "            if amount <= self.balance:\n",
    "                self.balance = self.balance - amount\n",
    "                print(\"Amount withdrawn successfully\")\n",
    "            else:\n",
    "                print(\"Insufficient Funds\")\n",
    "        else: \n",
    "            print(\"Invalid Pin\")          "
   ]
  },
  {
   "cell_type": "code",
   "execution_count": 12,
   "id": "dae13307",
   "metadata": {},
   "outputs": [
    {
     "name": "stdout",
     "output_type": "stream",
     "text": [
      "1816328307472\n",
      " Welcome\n",
      "        1. Press 1 to set pin\n",
      "        2. Press 2 to check balance\n",
      "        3. Press 3 to deposit amount\n",
      "        4. Press 4 to withdraw money\n",
      "        5. Press 5 to exit\n",
      "        1\n",
      "enter your pin1234\n",
      "pin set successfully\n",
      " Welcome\n",
      "        1. Press 1 to set pin\n",
      "        2. Press 2 to check balance\n",
      "        3. Press 3 to deposit amount\n",
      "        4. Press 4 to withdraw money\n",
      "        5. Press 5 to exit\n",
      "        5\n",
      "Exit\n"
     ]
    }
   ],
   "source": [
    "sbi = Atm()"
   ]
  },
  {
   "cell_type": "code",
   "execution_count": 13,
   "id": "b4fd41dd",
   "metadata": {},
   "outputs": [
    {
     "data": {
      "text/plain": [
       "1816328307472"
      ]
     },
     "execution_count": 13,
     "metadata": {},
     "output_type": "execute_result"
    }
   ],
   "source": [
    "id(sbi)"
   ]
  },
  {
   "cell_type": "code",
   "execution_count": 10,
   "id": "a864bce8",
   "metadata": {},
   "outputs": [
    {
     "data": {
      "text/plain": [
       "'1234'"
      ]
     },
     "execution_count": 10,
     "metadata": {},
     "output_type": "execute_result"
    }
   ],
   "source": [
    "sbi.pin"
   ]
  },
  {
   "cell_type": "code",
   "execution_count": null,
   "id": "ff1e549e",
   "metadata": {},
   "outputs": [],
   "source": [
    "sbi.__balance = 54 "
   ]
  },
  {
   "cell_type": "code",
   "execution_count": null,
   "id": "1c61c4f2",
   "metadata": {},
   "outputs": [],
   "source": []
  },
  {
   "cell_type": "code",
   "execution_count": null,
   "id": "20ffd178",
   "metadata": {},
   "outputs": [],
   "source": []
  },
  {
   "cell_type": "markdown",
   "id": "149553dc",
   "metadata": {},
   "source": [
    "# Fraction"
   ]
  },
  {
   "cell_type": "code",
   "execution_count": null,
   "id": "b2a78f95",
   "metadata": {},
   "outputs": [],
   "source": [
    "class Fraction:\n",
    "    \n",
    "    def __init__ (self, n, d):\n",
    "        self.num = n\n",
    "        self.den = d\n",
    "        \n",
    "    def __str__ (self):\n",
    "        return \"{}/{}\".format(self.num, self.den)\n",
    "    \n",
    "    def __add__(self, other):\n",
    "        temp_num = self.num*other.den + self.den*other.num\n",
    "        temp_den = self.den * other.den\n",
    "        return \"{}/{}\".format(temp_num, temp_den)\n",
    "    \n",
    "    def __sub__(self, other):\n",
    "        temp_num = self.num*other.den - self.den*other.num\n",
    "        temp_den = self.den * other.den\n",
    "        return \"{}/{}\".format(temp_num, temp_den)\n",
    "    \n",
    "    def __mul__(self, other):\n",
    "        temp_num = self.num*other.num\n",
    "        temp_den = self.den * other.den\n",
    "        return \"{}/{}\".format(temp_num, temp_den)\n",
    "    \n",
    "    def __truediv__(self, other):\n",
    "        temp_num = self.num*other.den\n",
    "        temp_den = self.den * other.num\n",
    "        return \"{}/{}\".format(temp_num, temp_den)"
   ]
  },
  {
   "cell_type": "code",
   "execution_count": null,
   "id": "b94cd5b1",
   "metadata": {},
   "outputs": [],
   "source": [
    "x = Fraction(4,5)"
   ]
  },
  {
   "cell_type": "code",
   "execution_count": null,
   "id": "8bdb26b4",
   "metadata": {},
   "outputs": [],
   "source": [
    "type(x)"
   ]
  },
  {
   "cell_type": "code",
   "execution_count": null,
   "id": "f62d6103",
   "metadata": {},
   "outputs": [],
   "source": [
    "print(x)"
   ]
  },
  {
   "cell_type": "code",
   "execution_count": null,
   "id": "6e822752",
   "metadata": {},
   "outputs": [],
   "source": [
    "y = Fraction(5,6)"
   ]
  },
  {
   "cell_type": "code",
   "execution_count": null,
   "id": "6d00b795",
   "metadata": {},
   "outputs": [],
   "source": [
    "print(y)"
   ]
  },
  {
   "cell_type": "code",
   "execution_count": null,
   "id": "db7f39c3",
   "metadata": {},
   "outputs": [],
   "source": [
    "print(x+y)"
   ]
  },
  {
   "cell_type": "code",
   "execution_count": null,
   "id": "34e93632",
   "metadata": {},
   "outputs": [],
   "source": [
    "print(x-y)"
   ]
  },
  {
   "cell_type": "code",
   "execution_count": null,
   "id": "5f15bab7",
   "metadata": {},
   "outputs": [],
   "source": [
    "print(x*y)"
   ]
  },
  {
   "cell_type": "code",
   "execution_count": null,
   "id": "83f196c0",
   "metadata": {},
   "outputs": [],
   "source": [
    "print(x/y)"
   ]
  },
  {
   "cell_type": "code",
   "execution_count": null,
   "id": "8d8001aa",
   "metadata": {},
   "outputs": [],
   "source": []
  },
  {
   "cell_type": "markdown",
   "id": "ba28fe66",
   "metadata": {},
   "source": [
    "# Practice"
   ]
  },
  {
   "cell_type": "code",
   "execution_count": null,
   "id": "96333bde",
   "metadata": {},
   "outputs": [],
   "source": [
    "number = int(input(\"enter the number\"))\n",
    "\n",
    "a = 0\n",
    "\n",
    "while number != 0:\n",
    "    a += number % 10\n",
    "    number = number//10\n",
    "        \n",
    "print(a)"
   ]
  },
  {
   "cell_type": "code",
   "execution_count": null,
   "id": "412635fd",
   "metadata": {},
   "outputs": [],
   "source": [
    "#reverse digit\n",
    "number = int(input(\"enter the number\"))\n",
    "\n",
    "a = 0\n",
    "i = 0\n",
    "while number != 0:\n",
    "    a = a*(10) + (number%10)\n",
    "    number = number//10\n",
    "    \n",
    "    \n",
    "a    "
   ]
  },
  {
   "cell_type": "code",
   "execution_count": null,
   "id": "4abfc563",
   "metadata": {},
   "outputs": [],
   "source": [
    "number = int(input(\"enter the number\"))\n",
    "\n",
    "a = 0\n",
    "ans = 0\n",
    "\n",
    "while number != 0:\n",
    "    a = number % 10\n",
    "    ans += a**2\n",
    "    number = number//10\n",
    "        \n",
    "print(ans)"
   ]
  },
  {
   "cell_type": "code",
   "execution_count": null,
   "id": "c401722b",
   "metadata": {},
   "outputs": [],
   "source": [
    "num_1 = int(input(\"enter first number\"))\n",
    "num_2 = int(input(\"enter second number\"))\n",
    "sum = 0\n",
    "for i in range(1,num_2 +1):\n",
    "    sum = sum + num_1\n",
    "    \n",
    "print(sum)  "
   ]
  },
  {
   "cell_type": "code",
   "execution_count": null,
   "id": "058a8631",
   "metadata": {},
   "outputs": [],
   "source": [
    "num = int(input(\"enter first number\"))\n",
    "ans = 1\n",
    "for i in range(1, num+1):\n",
    "    ans = ans*i\n",
    "    \n",
    "print(ans)    "
   ]
  },
  {
   "cell_type": "code",
   "execution_count": null,
   "id": "4d4d6008",
   "metadata": {},
   "outputs": [],
   "source": [
    "flag = 0\n",
    "a = 10000\n",
    "\n",
    "print(a)\n",
    "\n",
    "while True:\n",
    "    b = 0.9*a\n",
    "    a = b\n",
    "    print(b)\n",
    "    flag = flag + 1\n",
    "    \n",
    "    if flag == 9:\n",
    "        break\n",
    "    "
   ]
  },
  {
   "cell_type": "code",
   "execution_count": null,
   "id": "6d1f7168",
   "metadata": {},
   "outputs": [],
   "source": [
    "a = int(input(\"enter first number\"))\n",
    "b = int(input(\"enter second number\"))\n",
    "\n",
    "while a%b != 0:\n",
    "    rem = a%b\n",
    "    a = b\n",
    "    b = rem\n",
    "print(\"HCF is \", b)    "
   ]
  },
  {
   "cell_type": "code",
   "execution_count": null,
   "id": "ad109170",
   "metadata": {},
   "outputs": [],
   "source": [
    "a = int(input(\"enter first number\"))\n",
    "b = int(input(\"enter second number\"))\n",
    "count = 0\n",
    "while True:\n",
    "    c = a+b\n",
    "    a = b\n",
    "    b = c\n",
    "    print(c)\n",
    "    count += 1\n",
    "    if count == 10:\n",
    "         break\n",
    "    "
   ]
  },
  {
   "cell_type": "code",
   "execution_count": null,
   "id": "41907e80",
   "metadata": {},
   "outputs": [],
   "source": [
    "number, m = 4, 4\n",
    "\n",
    "\n",
    "\n",
    "for i in range(m):\n",
    "    s += number\n",
    "    number = number * 10 + n\n",
    "\n",
    "print(s)\n",
    "    "
   ]
  },
  {
   "cell_type": "code",
   "execution_count": null,
   "id": "55b9d33a",
   "metadata": {},
   "outputs": [],
   "source": [
    "rows = int(input(\"Enter number of rows\"))\n",
    "\n",
    "for i in range(0, rows):\n",
    "    for j in range(0, rows-i-1):\n",
    "        print(end = \" \")\n",
    "    for k in range(0, i+1):\n",
    "        print(\"*\", end = \" \")\n",
    "    print()    \n",
    "        "
   ]
  },
  {
   "cell_type": "code",
   "execution_count": null,
   "id": "4188ae6f",
   "metadata": {
    "scrolled": true
   },
   "outputs": [],
   "source": [
    "rows = int(input(\"Enter number of rows\"))\n",
    "\n",
    "for i in range(1,rows+1):\n",
    "    for j in range(0,i):\n",
    "        print(\"*\", end= \" \")\n",
    "    print(\"\")\n",
    "    \n",
    "for k in range(rows,0,-1):\n",
    "    for l in range(0, k-1):\n",
    "        print(\"*\", end = \" \")\n",
    "    print(\"\")    "
   ]
  },
  {
   "cell_type": "code",
   "execution_count": null,
   "id": "bca06bc6",
   "metadata": {},
   "outputs": [],
   "source": [
    "rows = int(input(\"enter number of rows\"))\n",
    "\n",
    "for i in range(1,rows+1):\n",
    "    for j in range(1,i):\n",
    "        print(j, end = \" \")\n",
    "    for k in range(i,0,-1):\n",
    "        print(k, end=\" \")\n",
    "    print(\"\")    "
   ]
  },
  {
   "cell_type": "code",
   "execution_count": null,
   "id": "35791ded",
   "metadata": {},
   "outputs": [],
   "source": [
    "rows = int(input(\"enter number of rows\"))\n",
    "\n",
    "for i in range(1,rows+1):\n",
    "    for j in range(1,i+1):\n",
    "        print(j, end = \" \")\n",
    "    for k in range(i-1,0,-1):\n",
    "        print(k, end=\" \")\n",
    "    print(\"\") "
   ]
  },
  {
   "cell_type": "code",
   "execution_count": null,
   "id": "bce28cd8",
   "metadata": {},
   "outputs": [],
   "source": [
    "rows = int(input(\"enter number of rows\"))\n",
    "num = 1\n",
    "for i in range(1, rows+1):\n",
    "    for j in range(1,i+1):\n",
    "        print(num,end=\" \")\n",
    "        num = num+1\n",
    "    print(\"\")    \n",
    "    "
   ]
  },
  {
   "cell_type": "code",
   "execution_count": null,
   "id": "0ccd8da8",
   "metadata": {},
   "outputs": [],
   "source": [
    "#simplify fraction\n",
    "a = int(input(\"enter first number\"))\n",
    "b = int(input(\"enter second number\"))\n",
    "\n",
    "while a%b != 0:\n",
    "    rem = a%b\n",
    "    a = b\n",
    "    b = rem\n",
    "hcf = b \n",
    "print(hcf)\n"
   ]
  },
  {
   "cell_type": "code",
   "execution_count": null,
   "id": "495dbccb",
   "metadata": {},
   "outputs": [],
   "source": [
    "email = input(\"enter your email\")\n",
    "\n",
    "username, mail = email.split(\"@\") #atif09558@gmail.com\n",
    "print(username)"
   ]
  },
  {
   "cell_type": "code",
   "execution_count": null,
   "id": "0679847b",
   "metadata": {},
   "outputs": [],
   "source": [
    "a = input('enter the string ; ')\n",
    "b = int(input(\"enter the value of character\"))\n",
    "\n",
    "c = a[0:b]\n",
    "d = a[b+1:]\n",
    "\n",
    "print(c+d)"
   ]
  },
  {
   "cell_type": "code",
   "execution_count": null,
   "id": "c6652b8c",
   "metadata": {},
   "outputs": [],
   "source": [
    "a = input(\"enter the string\")\n",
    "\n",
    "s = 0\n",
    "e = len(a)\n",
    "\n",
    "while s<e:\n",
    "    if (a[s] == a[e-1]):\n",
    "        s += 1\n",
    "        e -= 1\n",
    "    else:\n",
    "        print(\"not a palindrome\")\n",
    "        break\n",
    "if s<= e:\n",
    "    print(\"plaindrome\")  "
   ]
  },
  {
   "cell_type": "code",
   "execution_count": null,
   "id": "1df38f92",
   "metadata": {},
   "outputs": [],
   "source": [
    "a = \"helLo i aM aTIf\"\n",
    "y = a.split()\n",
    "y"
   ]
  },
  {
   "cell_type": "code",
   "execution_count": null,
   "id": "00c27a64",
   "metadata": {},
   "outputs": [],
   "source": [
    "a = \"helLo i aM aTIf\"\n",
    "y = a.split()\n",
    "\n",
    "r = \"\"\n",
    "for i in y:\n",
    "    r = r + i[0].upper() + i[1:].lower() + \" \"\n",
    "    \n",
    "r    "
   ]
  },
  {
   "cell_type": "code",
   "execution_count": null,
   "id": "9aa07e54",
   "metadata": {},
   "outputs": [],
   "source": []
  },
  {
   "cell_type": "code",
   "execution_count": null,
   "id": "7b37cdfd",
   "metadata": {},
   "outputs": [],
   "source": []
  },
  {
   "cell_type": "code",
   "execution_count": null,
   "id": "42f59f42",
   "metadata": {},
   "outputs": [],
   "source": []
  },
  {
   "cell_type": "code",
   "execution_count": null,
   "id": "270df410",
   "metadata": {},
   "outputs": [],
   "source": []
  },
  {
   "cell_type": "code",
   "execution_count": null,
   "id": "ccae5c43",
   "metadata": {},
   "outputs": [],
   "source": []
  },
  {
   "cell_type": "code",
   "execution_count": null,
   "id": "8cc5c07d",
   "metadata": {},
   "outputs": [],
   "source": []
  },
  {
   "cell_type": "code",
   "execution_count": null,
   "id": "fbc8d3db",
   "metadata": {},
   "outputs": [],
   "source": []
  },
  {
   "cell_type": "code",
   "execution_count": null,
   "id": "73c4ac66",
   "metadata": {},
   "outputs": [],
   "source": []
  },
  {
   "cell_type": "code",
   "execution_count": null,
   "id": "d94d08b2",
   "metadata": {},
   "outputs": [],
   "source": []
  }
 ],
 "metadata": {
  "kernelspec": {
   "display_name": "Python 3 (ipykernel)",
   "language": "python",
   "name": "python3"
  },
  "language_info": {
   "codemirror_mode": {
    "name": "ipython",
    "version": 3
   },
   "file_extension": ".py",
   "mimetype": "text/x-python",
   "name": "python",
   "nbconvert_exporter": "python",
   "pygments_lexer": "ipython3",
   "version": "3.11.5"
  }
 },
 "nbformat": 4,
 "nbformat_minor": 5
}
