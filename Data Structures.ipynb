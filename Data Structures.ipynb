{
 "cells": [
  {
   "cell_type": "code",
   "execution_count": null,
   "id": "22b85c8f",
   "metadata": {},
   "outputs": [],
   "source": [
    "x = \"apple\", \"banana\", \"cherry\"\n",
    "type(x)"
   ]
  },
  {
   "cell_type": "code",
   "execution_count": null,
   "id": "ff573737",
   "metadata": {},
   "outputs": [],
   "source": [
    "x = [\"apple\", \"banana\", \"cherry\"]\n",
    "type(x)"
   ]
  },
  {
   "cell_type": "code",
   "execution_count": null,
   "id": "0471b4f6",
   "metadata": {},
   "outputs": [],
   "source": [
    "x = {\"name\" : \"John\", \"age\" : 36}\n",
    "type(x)"
   ]
  },
  {
   "cell_type": "code",
   "execution_count": null,
   "id": "eed73b0c",
   "metadata": {},
   "outputs": [],
   "source": [
    "x = {\"apple\", \"banana\", \"cherry\"}\n",
    "type(x)"
   ]
  },
  {
   "cell_type": "markdown",
   "id": "b47b066e",
   "metadata": {},
   "source": [
    "# List\n",
    "1. Allows Heterogenous\n",
    "2. Index start from 0\n",
    "3. Mutable using index\n",
    "4. []"
   ]
  },
  {
   "cell_type": "code",
   "execution_count": null,
   "id": "221f072f",
   "metadata": {},
   "outputs": [],
   "source": [
    "sample_list = [12,43,56,\"hi\",1+2j, 6.7]\n",
    "sample_list"
   ]
  },
  {
   "cell_type": "code",
   "execution_count": null,
   "id": "6690f924",
   "metadata": {},
   "outputs": [],
   "source": [
    "type(sample_list)"
   ]
  },
  {
   "cell_type": "code",
   "execution_count": null,
   "id": "44017815",
   "metadata": {},
   "outputs": [],
   "source": [
    "sample_list[0]"
   ]
  },
  {
   "cell_type": "code",
   "execution_count": null,
   "id": "80a1bf97",
   "metadata": {},
   "outputs": [],
   "source": [
    "sample_list[4]"
   ]
  },
  {
   "cell_type": "code",
   "execution_count": null,
   "id": "14805ac6",
   "metadata": {},
   "outputs": [],
   "source": [
    "sample_list[10]"
   ]
  },
  {
   "cell_type": "code",
   "execution_count": null,
   "id": "43bd5904",
   "metadata": {},
   "outputs": [],
   "source": [
    "sample_list[20]"
   ]
  },
  {
   "cell_type": "code",
   "execution_count": null,
   "id": "bbb88412",
   "metadata": {},
   "outputs": [],
   "source": [
    "sample_list[2]"
   ]
  },
  {
   "cell_type": "code",
   "execution_count": null,
   "id": "4a0a5866",
   "metadata": {},
   "outputs": [],
   "source": [
    "sample_list[2]=3.5"
   ]
  },
  {
   "cell_type": "code",
   "execution_count": null,
   "id": "700d923b",
   "metadata": {},
   "outputs": [],
   "source": [
    "sample_list"
   ]
  },
  {
   "cell_type": "code",
   "execution_count": null,
   "id": "81f59902",
   "metadata": {},
   "outputs": [],
   "source": [
    "sample_list[4]=100"
   ]
  },
  {
   "cell_type": "code",
   "execution_count": null,
   "id": "85fa9b73",
   "metadata": {},
   "outputs": [],
   "source": [
    "sample_list"
   ]
  },
  {
   "cell_type": "code",
   "execution_count": null,
   "id": "905c41b3",
   "metadata": {},
   "outputs": [],
   "source": [
    "sample_list.reverse()"
   ]
  },
  {
   "cell_type": "code",
   "execution_count": null,
   "id": "b1aca83f",
   "metadata": {},
   "outputs": [],
   "source": [
    "sample_list"
   ]
  },
  {
   "cell_type": "code",
   "execution_count": null,
   "id": "ee30083d",
   "metadata": {},
   "outputs": [],
   "source": [
    "sample_list.sort()\n",
    "sample_list"
   ]
  },
  {
   "cell_type": "code",
   "execution_count": null,
   "id": "51b85a17",
   "metadata": {},
   "outputs": [],
   "source": [
    "sample_list = [21,34,65,12,8.8]"
   ]
  },
  {
   "cell_type": "code",
   "execution_count": null,
   "id": "ec535a5b",
   "metadata": {},
   "outputs": [],
   "source": [
    "sample_list"
   ]
  },
  {
   "cell_type": "code",
   "execution_count": null,
   "id": "5d5d3dd1",
   "metadata": {},
   "outputs": [],
   "source": [
    "sample_list.sort()"
   ]
  },
  {
   "cell_type": "code",
   "execution_count": null,
   "id": "2fcd7e94",
   "metadata": {},
   "outputs": [],
   "source": [
    "sample_list"
   ]
  },
  {
   "cell_type": "markdown",
   "id": "9a4f5fea",
   "metadata": {},
   "source": [
    "# TUPLE\n",
    "1. Allows heterogenous\n",
    "2. Index start from 0 and retrieve using index\n",
    "3. cannot change the data once declared-immutable\n",
    "4. ()"
   ]
  },
  {
   "cell_type": "code",
   "execution_count": null,
   "id": "e6865578",
   "metadata": {},
   "outputs": [],
   "source": [
    "sample_tuple = (1,56,3.5,\"hi\",1+2j)\n",
    "sample_tuple"
   ]
  },
  {
   "cell_type": "code",
   "execution_count": null,
   "id": "6da26e8b",
   "metadata": {},
   "outputs": [],
   "source": [
    "type(sample_tuple)"
   ]
  },
  {
   "cell_type": "code",
   "execution_count": null,
   "id": "c2f407eb",
   "metadata": {},
   "outputs": [],
   "source": [
    "sample_tuple = 1,56,3.5,\"hi\",1+2j"
   ]
  },
  {
   "cell_type": "code",
   "execution_count": null,
   "id": "160094bb",
   "metadata": {},
   "outputs": [],
   "source": [
    "type(sample_tuple)"
   ]
  },
  {
   "cell_type": "code",
   "execution_count": null,
   "id": "39d00211",
   "metadata": {},
   "outputs": [],
   "source": [
    "sample_tuple[3]"
   ]
  },
  {
   "cell_type": "code",
   "execution_count": null,
   "id": "104362c6",
   "metadata": {},
   "outputs": [],
   "source": [
    "sample_tuple[7]"
   ]
  },
  {
   "cell_type": "code",
   "execution_count": null,
   "id": "620d6e37",
   "metadata": {},
   "outputs": [],
   "source": [
    "sample_tuple.reverse()"
   ]
  },
  {
   "cell_type": "code",
   "execution_count": null,
   "id": "9a4fc111",
   "metadata": {},
   "outputs": [],
   "source": [
    "sample_tuple[3]"
   ]
  },
  {
   "cell_type": "code",
   "execution_count": null,
   "id": "d9ceb6cc",
   "metadata": {},
   "outputs": [],
   "source": [
    "sample_tuple[3]=13"
   ]
  },
  {
   "cell_type": "code",
   "execution_count": null,
   "id": "f5ff9c1d",
   "metadata": {},
   "outputs": [],
   "source": [
    "A = list(sample_tuple)"
   ]
  },
  {
   "cell_type": "code",
   "execution_count": null,
   "id": "b4c3724a",
   "metadata": {},
   "outputs": [],
   "source": [
    "print(A)"
   ]
  },
  {
   "cell_type": "code",
   "execution_count": null,
   "id": "39ddcc2f",
   "metadata": {},
   "outputs": [],
   "source": [
    "A[3]=13"
   ]
  },
  {
   "cell_type": "code",
   "execution_count": null,
   "id": "ef956fa9",
   "metadata": {},
   "outputs": [],
   "source": [
    "A"
   ]
  },
  {
   "cell_type": "markdown",
   "id": "aed340da",
   "metadata": {},
   "source": [
    "# Set\n",
    "1. Add heterogenous\n",
    "2. Does not allow duplicates\n",
    "3. cannot access using index\n",
    "4. Immutable using index\n",
    "5. ordered first place"
   ]
  },
  {
   "cell_type": "markdown",
   "id": "2dd7bf5b",
   "metadata": {},
   "source": [
    "sample_set = {1,123,43,23,45,67,22,21,3,66,0,23,43,1,\"hi\",\"fox\",\"a\",\"abc\",252,13.5}"
   ]
  },
  {
   "cell_type": "code",
   "execution_count": null,
   "id": "c605dfe0",
   "metadata": {},
   "outputs": [],
   "source": [
    "sample_set"
   ]
  },
  {
   "cell_type": "code",
   "execution_count": null,
   "id": "dc581371",
   "metadata": {},
   "outputs": [],
   "source": [
    "sample_set[2]   ### we cannot retrieve the elements using index in a set"
   ]
  },
  {
   "cell_type": "code",
   "execution_count": null,
   "id": "77219416",
   "metadata": {},
   "outputs": [],
   "source": [
    "sample_set[2]=100"
   ]
  },
  {
   "cell_type": "code",
   "execution_count": null,
   "id": "58a1e1be",
   "metadata": {},
   "outputs": [],
   "source": [
    "sample_set.remove(43)\n",
    "sample_set"
   ]
  },
  {
   "cell_type": "markdown",
   "id": "e9fea76f",
   "metadata": {},
   "source": []
  },
  {
   "cell_type": "code",
   "execution_count": null,
   "id": "7c027c34",
   "metadata": {},
   "outputs": [],
   "source": [
    "sample_set.add(999)\n",
    "sample_set"
   ]
  },
  {
   "cell_type": "markdown",
   "id": "c6f05067",
   "metadata": {},
   "source": [
    "# Dictionary\n",
    "1. Dictionary has a key value pair data structure\n",
    "2. Key is unique, Value can be duplicated\n",
    "3. can retrieve the value using key\n",
    "4. can change the value using key\n",
    "5. Key is immutable"
   ]
  },
  {
   "cell_type": "code",
   "execution_count": 1,
   "id": "ea7f6eca",
   "metadata": {},
   "outputs": [
    {
     "data": {
      "text/plain": [
       "dict"
      ]
     },
     "execution_count": 1,
     "metadata": {},
     "output_type": "execute_result"
    }
   ],
   "source": [
    "sample_dict = {\"a\":\"alpha\",1:\"first\",2:\"second\",3:\"third\",1:\"fourth\",5:\"fourth\",6:\"sixth\"}\n",
    "type(sample_dict)"
   ]
  },
  {
   "cell_type": "code",
   "execution_count": 2,
   "id": "0a8a282d",
   "metadata": {},
   "outputs": [
    {
     "data": {
      "text/plain": [
       "{'a': 'alpha', 1: 'fourth', 2: 'second', 3: 'third', 5: 'fourth', 6: 'sixth'}"
      ]
     },
     "execution_count": 2,
     "metadata": {},
     "output_type": "execute_result"
    }
   ],
   "source": [
    "sample_dict    ### Key is unique / Values can be duplicated"
   ]
  },
  {
   "cell_type": "code",
   "execution_count": 3,
   "id": "a6640376",
   "metadata": {},
   "outputs": [
    {
     "data": {
      "text/plain": [
       "'alpha'"
      ]
     },
     "execution_count": 3,
     "metadata": {},
     "output_type": "execute_result"
    }
   ],
   "source": [
    "sample_dict[\"a\"]"
   ]
  },
  {
   "cell_type": "code",
   "execution_count": 4,
   "id": "106b4feb",
   "metadata": {},
   "outputs": [
    {
     "data": {
      "text/plain": [
       "'fourth'"
      ]
     },
     "execution_count": 4,
     "metadata": {},
     "output_type": "execute_result"
    }
   ],
   "source": [
    "sample_dict[5]    ### Retrieve the value using key"
   ]
  },
  {
   "cell_type": "code",
   "execution_count": 5,
   "id": "c14a881e",
   "metadata": {},
   "outputs": [
    {
     "ename": "KeyError",
     "evalue": "'aplha'",
     "output_type": "error",
     "traceback": [
      "\u001b[1;31m---------------------------------------------------------------------------\u001b[0m",
      "\u001b[1;31mKeyError\u001b[0m                                  Traceback (most recent call last)",
      "\u001b[1;32m~\\AppData\\Local\\Temp/ipykernel_15572/1635089299.py\u001b[0m in \u001b[0;36m<module>\u001b[1;34m\u001b[0m\n\u001b[1;32m----> 1\u001b[1;33m \u001b[0msample_dict\u001b[0m\u001b[1;33m[\u001b[0m\u001b[1;34m\"aplha\"\u001b[0m\u001b[1;33m]\u001b[0m  \u001b[1;31m### Key cannot be retrieved using value\u001b[0m\u001b[1;33m\u001b[0m\u001b[1;33m\u001b[0m\u001b[0m\n\u001b[0m",
      "\u001b[1;31mKeyError\u001b[0m: 'aplha'"
     ]
    }
   ],
   "source": [
    "sample_dict[\"aplha\"]  ### Key cannot be retrieved using value"
   ]
  },
  {
   "cell_type": "code",
   "execution_count": 6,
   "id": "0d5d6749",
   "metadata": {},
   "outputs": [
    {
     "data": {
      "text/plain": [
       "{'a': 'alpha', 1: 'fourth', 2: 'second', 3: 'third', 5: 'fifth', 6: 'sixth'}"
      ]
     },
     "execution_count": 6,
     "metadata": {},
     "output_type": "execute_result"
    }
   ],
   "source": [
    "sample_dict[5]=\"fifth\"    ### Mutable using key\n",
    "sample_dict"
   ]
  },
  {
   "cell_type": "code",
   "execution_count": 7,
   "id": "c910be0f",
   "metadata": {},
   "outputs": [
    {
     "data": {
      "text/plain": [
       "{'a': 'alpha',\n",
       " 1: 'fourth',\n",
       " 2: 'second',\n",
       " 3: 'third',\n",
       " 5: 'fifth',\n",
       " 6: 'sixth',\n",
       " 7: 'seventh'}"
      ]
     },
     "execution_count": 7,
     "metadata": {},
     "output_type": "execute_result"
    }
   ],
   "source": [
    "sample_dict[7]=\"seventh\"    ### We can add key and values to a dictionary\n",
    "sample_dict"
   ]
  },
  {
   "cell_type": "code",
   "execution_count": 8,
   "id": "63e96627",
   "metadata": {},
   "outputs": [
    {
     "ename": "AttributeError",
     "evalue": "'dict' object has no attribute 'reverse'",
     "output_type": "error",
     "traceback": [
      "\u001b[1;31m---------------------------------------------------------------------------\u001b[0m",
      "\u001b[1;31mAttributeError\u001b[0m                            Traceback (most recent call last)",
      "\u001b[1;32m~\\AppData\\Local\\Temp/ipykernel_15572/2279655043.py\u001b[0m in \u001b[0;36m<module>\u001b[1;34m\u001b[0m\n\u001b[1;32m----> 1\u001b[1;33m \u001b[0msample_dict\u001b[0m\u001b[1;33m.\u001b[0m\u001b[0mreverse\u001b[0m\u001b[1;33m(\u001b[0m\u001b[1;33m)\u001b[0m\u001b[1;33m\u001b[0m\u001b[1;33m\u001b[0m\u001b[0m\n\u001b[0m",
      "\u001b[1;31mAttributeError\u001b[0m: 'dict' object has no attribute 'reverse'"
     ]
    }
   ],
   "source": [
    "sample_dict.reverse()"
   ]
  },
  {
   "cell_type": "code",
   "execution_count": 10,
   "id": "d0b5bd10",
   "metadata": {},
   "outputs": [
    {
     "data": {
      "text/plain": [
       "{'a': 'alpha',\n",
       " 1: 'fourth',\n",
       " 2: 'second',\n",
       " 3: 'third',\n",
       " 5: 'fifth',\n",
       " 6: 'sixth',\n",
       " 7: 'seventh',\n",
       " 'x': 'y'}"
      ]
     },
     "execution_count": 10,
     "metadata": {},
     "output_type": "execute_result"
    }
   ],
   "source": [
    "sample_dict[\"x\"]=\"y\"\n",
    "sample_dict"
   ]
  },
  {
   "cell_type": "code",
   "execution_count": null,
   "id": "5f837173",
   "metadata": {},
   "outputs": [],
   "source": []
  }
 ],
 "metadata": {
  "kernelspec": {
   "display_name": "Python 3 (ipykernel)",
   "language": "python",
   "name": "python3"
  },
  "language_info": {
   "codemirror_mode": {
    "name": "ipython",
    "version": 3
   },
   "file_extension": ".py",
   "mimetype": "text/x-python",
   "name": "python",
   "nbconvert_exporter": "python",
   "pygments_lexer": "ipython3",
   "version": "3.9.7"
  }
 },
 "nbformat": 4,
 "nbformat_minor": 5
}
