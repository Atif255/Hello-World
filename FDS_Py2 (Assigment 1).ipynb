{
 "cells": [
  {
   "cell_type": "markdown",
   "id": "5a377b74",
   "metadata": {},
   "source": [
    "# Assignment 1 problems 1"
   ]
  },
  {
   "cell_type": "markdown",
   "id": "434ea2f0",
   "metadata": {},
   "source": [
    "## Exercise 1:\n",
    "\n",
    "1. Prompt the user \"Enter your weight (in kgs)\" and record weight\n",
    "2. Prompt the user \"What is your preferred unit of height? Type \"F\" for feet and \"M\" for meters\" and record the preference\n",
    "3. If user says \"F\" then prompt user \"You will enter your height given as feet and inches. First enter feet\" and record feet and then prompt user \"Now enter inches\" and record inches\n",
    "4. If user says \"M\" then prompt user \"What is your height in meters\" and record height in meters\n",
    "5. If user had chosen \"F\" then convert height into meters\n",
    "6. Compute BMI using the following formula\n",
    "\n",
    "                       BMI=Weight (in kgs)/Height^2(in m)\n",
    "7. Depending on the value of BMI, report the user's type given by the following table:\n",
    "                   BMI<18.5: UNDERWEIGHT\n",
    "                   18.5≤BMI<25: NORMAL\n",
    "                   25≤BMI<30: OVERWEIGHT\n",
    "                   BMI≥30: VERY-OVERWEIGHT"
   ]
  },
  {
   "cell_type": "code",
   "execution_count": 1,
   "id": "8a348464",
   "metadata": {},
   "outputs": [
    {
     "name": "stdout",
     "output_type": "stream",
     "text": [
      "Enter your weight in kgs 72\n",
      "Enter your preferred unit of measurement \"F\" for feet and inches and \"M\" for meters F\n",
      "You are in the F block\n"
     ]
    }
   ],
   "source": [
    "weight = input(\"Enter your weight in kgs \")\n",
    "height_unit = input('Enter your preferred unit of measurement \"F\" for feet and inches and \"M\" for meters ')\n",
    "if height_unit == \"F\":\n",
    "    print(\"You are in the F block\")\n",
    "else:\n",
    "    print(\"you are in the M block\")    ## To DO"
   ]
  },
  {
   "cell_type": "code",
   "execution_count": 2,
   "id": "ea97cd7d",
   "metadata": {},
   "outputs": [
    {
     "name": "stdout",
     "output_type": "stream",
     "text": [
      "Enter your weight in kgs 72\n",
      "Enter your preferred unit of measurement \"F\" for feet and inches and \"M\" for meters F\n",
      "Please, enter your height in feet and inches, Now enter feet 5\n",
      "Now enter inches 9\n"
     ]
    }
   ],
   "source": [
    "weight = input(\"Enter your weight in kgs \")\n",
    "height_unit = input('Enter your preferred unit of measurement \"F\" for feet and inches and \"M\" for meters ')\n",
    "if height_unit == \"F\":\n",
    "    feet = input(\"Please, enter your height in feet and inches, Now enter feet \")\n",
    "    inches =input(\"Now enter inches \")\n",
    "else:\n",
    "    meters = input(\"Please, enter your height in meters\")"
   ]
  },
  {
   "cell_type": "code",
   "execution_count": 3,
   "id": "a165016b",
   "metadata": {},
   "outputs": [
    {
     "name": "stdout",
     "output_type": "stream",
     "text": [
      "Enter your weight in kgs 72\n",
      "Enter your preferred unit of measurement \"F\" for feet and inches and \"M\" for meters F\n",
      "Please, enter your height in feet and inches, Now enter feet 5\n",
      "Now enter inches 9\n"
     ]
    },
    {
     "ename": "TypeError",
     "evalue": "unsupported operand type(s) for /: 'str' and 'int'",
     "output_type": "error",
     "traceback": [
      "\u001b[1;31m---------------------------------------------------------------------------\u001b[0m",
      "\u001b[1;31mTypeError\u001b[0m                                 Traceback (most recent call last)",
      "\u001b[1;32m~\\AppData\\Local\\Temp/ipykernel_20844/576802992.py\u001b[0m in \u001b[0;36m<module>\u001b[1;34m\u001b[0m\n\u001b[0;32m      4\u001b[0m     \u001b[0mfeet\u001b[0m \u001b[1;33m=\u001b[0m \u001b[0minput\u001b[0m\u001b[1;33m(\u001b[0m\u001b[1;34m\"Please, enter your height in feet and inches, Now enter feet \"\u001b[0m\u001b[1;33m)\u001b[0m\u001b[1;33m\u001b[0m\u001b[1;33m\u001b[0m\u001b[0m\n\u001b[0;32m      5\u001b[0m     \u001b[0minches\u001b[0m \u001b[1;33m=\u001b[0m \u001b[0minput\u001b[0m\u001b[1;33m(\u001b[0m\u001b[1;34m\"Now enter inches \"\u001b[0m\u001b[1;33m)\u001b[0m\u001b[1;33m\u001b[0m\u001b[1;33m\u001b[0m\u001b[0m\n\u001b[1;32m----> 6\u001b[1;33m     \u001b[0mmeters\u001b[0m \u001b[1;33m=\u001b[0m \u001b[1;33m(\u001b[0m\u001b[0mfeet\u001b[0m \u001b[1;33m+\u001b[0m \u001b[0minches\u001b[0m\u001b[1;33m/\u001b[0m\u001b[1;36m12\u001b[0m\u001b[1;33m)\u001b[0m\u001b[1;33m*\u001b[0m\u001b[1;36m0.3048\u001b[0m\u001b[1;33m\u001b[0m\u001b[1;33m\u001b[0m\u001b[0m\n\u001b[0m\u001b[0;32m      7\u001b[0m \u001b[1;32melse\u001b[0m\u001b[1;33m:\u001b[0m\u001b[1;33m\u001b[0m\u001b[1;33m\u001b[0m\u001b[0m\n\u001b[0;32m      8\u001b[0m     \u001b[0mmeters\u001b[0m \u001b[1;33m=\u001b[0m \u001b[0minput\u001b[0m\u001b[1;33m(\u001b[0m\u001b[1;34m\"Please, enter your height in meters\"\u001b[0m\u001b[1;33m)\u001b[0m\u001b[1;33m\u001b[0m\u001b[1;33m\u001b[0m\u001b[0m\n",
      "\u001b[1;31mTypeError\u001b[0m: unsupported operand type(s) for /: 'str' and 'int'"
     ]
    }
   ],
   "source": [
    "weight = input(\"Enter your weight in kgs \")\n",
    "height_unit = input('Enter your preferred unit of measurement \"F\" for feet and inches and \"M\" for meters ')\n",
    "if height_unit == \"F\":\n",
    "    feet = input(\"Please, enter your height in feet and inches, Now enter feet \")\n",
    "    inches = input(\"Now enter inches \")\n",
    "    meters = (feet + inches/12)*0.3048\n",
    "else:\n",
    "    meters = input(\"Please, enter your height in meters\")\n",
    "\n",
    "height = meters\n",
    "height"
   ]
  },
  {
   "cell_type": "code",
   "execution_count": 4,
   "id": "1c0c49ae",
   "metadata": {},
   "outputs": [],
   "source": [
    "def input_single_integer(prompt):\n",
    "    ret = int(input(prompt))\n",
    "    return ret"
   ]
  },
  {
   "cell_type": "code",
   "execution_count": 5,
   "id": "50514a29",
   "metadata": {},
   "outputs": [
    {
     "name": "stdout",
     "output_type": "stream",
     "text": [
      "Enter your weight in kgs 72\n",
      "Enter your preferred unit of measurement \"F\" for feet and inches and \"M\" for meters F\n",
      "Please, enter your height in feet and inches, Now enter feet 5\n",
      "Now enter inches 9\n"
     ]
    },
    {
     "data": {
      "text/plain": [
       "1.7526000000000002"
      ]
     },
     "execution_count": 5,
     "metadata": {},
     "output_type": "execute_result"
    }
   ],
   "source": [
    "weight = input(\"Enter your weight in kgs \")\n",
    "height_unit = input('Enter your preferred unit of measurement \"F\" for feet and inches and \"M\" for meters ')\n",
    "\n",
    "if height_unit == \"F\":\n",
    "    feet = input_single_integer(\"Please, enter your height in feet and inches, Now enter feet \")\n",
    "    inches = input_single_integer(\"Now enter inches \")\n",
    "    meters = (feet + inches/12)*0.3048\n",
    "else:\n",
    "    meters = input(\"Please, enter your height in meters\")\n",
    "\n",
    "height = meters\n",
    "height"
   ]
  },
  {
   "cell_type": "code",
   "execution_count": 12,
   "id": "84124161",
   "metadata": {},
   "outputs": [],
   "source": [
    "def input_single_float(prompt):\n",
    "    ret = float(input(prompt))\n",
    "    return ret"
   ]
  },
  {
   "cell_type": "code",
   "execution_count": 17,
   "id": "1c45d785",
   "metadata": {},
   "outputs": [
    {
     "name": "stdout",
     "output_type": "stream",
     "text": [
      "Enter your weight in kgs 72\n",
      "Enter your preferred unit of measurement \"F\" for feet and inches and \"M\" for meters F\n",
      "Please, enter your height in feet and inches, Now enter feet 5\n",
      "Now enter inches 9\n",
      "your bmi is 23.440500567201507\n",
      "You are normal, great going\n"
     ]
    }
   ],
   "source": [
    "weight = input_single_float(\"Enter your weight in kgs \")\n",
    "height_unit = input('Enter your preferred unit of measurement \"F\" for feet and inches and \"M\" for meters ')\n",
    "\n",
    "if height_unit == \"F\":\n",
    "    feet = input_single_integer(\"Please, enter your height in feet and inches, Now enter feet \")\n",
    "    inches = input_single_integer(\"Now enter inches \")\n",
    "    meters = (feet + inches/12)*0.3048\n",
    "else:\n",
    "    meters = input_single_float(\"Please, enter your height in meters\")\n",
    "\n",
    "height = meters\n",
    "\n",
    "bmi = weight/height**2\n",
    "print(\"your bmi is\" , bmi)\n",
    "\n",
    "if bmi<18.5:\n",
    "    print(\"you are UNDERWEIGHT, please consult doctor\")\n",
    "elif bmi<25:\n",
    "    print(\"You are normal, great going\")\n",
    "elif bmi<30:\n",
    "    print(\"You are OVERWEIGHT, watch out\")\n",
    "else:\n",
    "    print(\"you are VERY OVERWEIGHT, please consult doctor\")"
   ]
  }
 ],
 "metadata": {
  "kernelspec": {
   "display_name": "Python 3 (ipykernel)",
   "language": "python",
   "name": "python3"
  },
  "language_info": {
   "codemirror_mode": {
    "name": "ipython",
    "version": 3
   },
   "file_extension": ".py",
   "mimetype": "text/x-python",
   "name": "python",
   "nbconvert_exporter": "python",
   "pygments_lexer": "ipython3",
   "version": "3.9.7"
  }
 },
 "nbformat": 4,
 "nbformat_minor": 5
}
